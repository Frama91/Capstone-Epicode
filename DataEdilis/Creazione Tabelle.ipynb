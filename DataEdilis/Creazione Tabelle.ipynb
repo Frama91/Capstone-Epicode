{
 "cells": [
  {
   "cell_type": "markdown",
   "metadata": {},
   "source": [
    "### Creazione delle tabelle con i dati"
   ]
  },
  {
   "cell_type": "code",
   "execution_count": 1,
   "metadata": {},
   "outputs": [],
   "source": [
    "import pandas as pd\n",
    "from random import randint as rdi\n",
    "import random\n",
    "from datetime import datetime,timedelta\n"
   ]
  },
  {
   "cell_type": "markdown",
   "metadata": {},
   "source": [
    "Creo una serier di liste da cui verranno estratti casualmente i dati e creo delle funzioni di supporto"
   ]
  },
  {
   "cell_type": "code",
   "execution_count": 2,
   "metadata": {},
   "outputs": [],
   "source": [
    "Lista_Fornitori = \"BuildTech Solutions\",\"EcoMaterials Group\",\"InnoConstruct Supplies\",\"Pinnacle Builders Supply\",\"EcoBuild Innovations\",\"UrbanBuild Materials\",\"TechStruct Supplies\",\"GreenHarbor Builders\",\"MetroConstruct Distributors\",\"Everlast Building Materials\",\"InnoBuild Solutions\",\"PrimeStone Construction Supplies\",\"EnviroStruct Innovations\",\"CityBuild Materials Co.\",\"SwiftConstruct Supplies\",\"EliteBuild Innovations\",\"HarborStone Builders\",\"ProStruct Materials\",\"NexGen Construction Supply\",\"InnoGlobe Building Solutions\"\n",
    "Diz_Prodotti = {\"Cemento Portland\": (50, 100),\"Mattoni ceramici\": (0.20, 0.50),\"Lastre di gesso\": (5, 15),\"Legname da costruzione\": (300, 600),\"Pittura acrilica\": (20, 50),\"Isolamento termico\": (10, 30),\"Piastrelle in ceramica\": (15, 40),\"Calcestruzzo pronto\": (80, 120),\"Ferro per armatura\": (1, 2.50),\"Porte in legno massiccio\": (150, 300),\"Finestre in alluminio\": (80, 200),\"Pannelli solari termici\": (500, 1000),\"Tubazioni in PVC\": (2, 8),\"Cartongesso\": (8, 15),\"Impalcature\": (200, 500),\"Coperture in tegole\": (10, 25),\"Finitura a gesso\": (10, 30),\"Scalini di granito\": (50, 150),\"Rivestimento in pietra naturale\": (20, 80),\"Sistema di riscaldamento a pavimento\": (300, 800)}\n",
    "Lista_Clienti = \"EdilCostruzioni Srl\",\"Architetti Associati\",\"CasaModerna Progetti\",\"ImpreseEdili Rossi\",\"EcoBuild Residenze\",\"GreenSpace Costruzioni\",\"StudioArchitettura Bianchi\",\"EcoHabitat Costruzioni\",\"UrbanDesign & Edilizia\",\"ModernLiving Progetti\",\"ArchitetturaVerde snc\",\"EdilArte Design\",\"GreenBuild Costruzioni\",\"CasaBella Progetti\",\"EdilElegance Residenze\",\"AmbientArchitettura\",\"EdilDesign Innovazioni\",\"NuovaCasa Costruzioni\",\"TecnicoEdile Studio\",\"EcoArchitettura Residenziale\",\"ProgettoCasa Srl\",\"CasaFutura Design\",\"GreenSolutions Costruzioni\",\"ArchitetturaViva snc\",\"EdilStyle Innovazioni\",\"CasaSostenibile Progetti\",\"Ambiente&Edilizia Studio\",\"ArchitetturaInnovativa srl\",\"CasaNuova Costruzioni\",\"EdilEco Residenze\"\n",
    "\n",
    "def Rand_Date(inizio, fine):\n",
    "    \"\"\"\n",
    "    Questa funzione restutuisce delle date casuali dall'intervallo inserito.\n",
    "\n",
    "    Valori:\n",
    "        inizio(\"DD/MM/YYY\"): data inizio intervallo.\n",
    "        fine(\"DD/MM/YYY\"): data fine intervallo.\n",
    "\n",
    "    Risultato:\n",
    "        data casuale: data casuale in formato DD/MM/YYYY\n",
    "    \"\"\"\n",
    "    inizio_datetime = datetime.strptime(inizio, '%d/%m/%Y')\n",
    "    fine_datetime = datetime.strptime(fine, '%d/%m/%Y')\n",
    "    delta_giorni = (fine_datetime - inizio_datetime).days\n",
    "    data_casuale = inizio_datetime + timedelta(days=rdi(0, delta_giorni))\n",
    "    return data_casuale.strftime('%d/%m/%Y')"
   ]
  },
  {
   "cell_type": "markdown",
   "metadata": {},
   "source": [
    "Creo le tabelle e le popolo con i dati che verranno usati nele analisi.\n",
    "\n",
    "In totale saranno 3:\n",
    "\n",
    "-Acquisti\n",
    "\n",
    "-Vendite\n",
    "\n",
    "-Contratti"
   ]
  },
  {
   "cell_type": "code",
   "execution_count": 3,
   "metadata": {},
   "outputs": [],
   "source": [
    "# Creazione tabella Acquisti\n",
    "Acquisti = pd.DataFrame()\n",
    "\n",
    "# Scelta del numero di righe\n",
    "Numero_acquisti = 250\n",
    "\n",
    "# Creazione delle singole colonne e riempimento\n",
    "Acquisti[\"ID_Acquisto\"] = ['ACQ-{:03d}'.format(i) for i in range(1, Numero_acquisti+1)]\n",
    "Acquisti[\"Fornitore\"] = [Lista_Fornitori[rdi(0,len(Lista_Fornitori)-1)] for x in range(Numero_acquisti)]\n",
    "Acquisti[\"Data_Acquisto\"] = [Rand_Date(\"01/01/2020\",\"31/12/2023\") for x in range(Numero_acquisti)]\n",
    "Acquisti[\"Materiale\"] = [list(Diz_Prodotti.keys())[rdi(0,len(list(Diz_Prodotti.keys()))-1)] for x in range(Numero_acquisti)]\n",
    "Acquisti[\"Prezzo_Unitario\"] = [round(random.uniform(Diz_Prodotti[Acquisti.Materiale[x]][0],Diz_Prodotti[Acquisti.Materiale[x]][1]),2) for x in range(Numero_acquisti) ] \n",
    "Acquisti[\"Quantità\"] = [ rdi(20,500) for x in range(Numero_acquisti)]\n",
    "Acquisti[\"Importo_Totale\"] = [Acquisti[\"Prezzo_Unitario\"][x] * Acquisti[\"Quantità\"][x] for x in range(Numero_acquisti)]"
   ]
  },
  {
   "cell_type": "code",
   "execution_count": 4,
   "metadata": {},
   "outputs": [],
   "source": [
    "# Creazione tabella Vendite\n",
    "Vendite = pd.DataFrame()\n",
    "\n",
    "# Scelta del numero di righe\n",
    "Numero_vendite = 250\n",
    "\n",
    "# Creazione delle singole colonne e riempimento\n",
    "Vendite[\"ID_Vendita\"] = ['VND-{:03d}'.format(i) for i in range(1, Numero_vendite+1)]\n",
    "Vendite[\"Cliente\"] = [Lista_Clienti[rdi(0,len(Lista_Clienti)-1)] for x in range(Numero_vendite)]\n",
    "Vendite[\"Data_vendita\"] = [Rand_Date(\"01/01/2020\",\"31/12/2023\") for x in range(Numero_vendite)]\n",
    "Vendite[\"Materiale\"] = [list(Diz_Prodotti.keys())[rdi(0,len(list(Diz_Prodotti.keys()))-1)] for x in range(Numero_vendite)]\n",
    "Vendite[\"Prezzo_Unitario\"] = [round(random.uniform(Diz_Prodotti[Vendite.Materiale[x]][0],Diz_Prodotti[Vendite.Materiale[x]][1]),2) for x in range(Numero_vendite)]\n",
    "Vendite[\"Perc_Margine\"] = [rdi(25,40) for x in range(Numero_vendite)] \n",
    "Vendite[\"Quantità\"] = [ rdi(5,100) for x in range(Numero_vendite)]\n",
    "Vendite[\"Importo_Totale\"] = [round((Vendite[\"Prezzo_Unitario\"][x] + (Vendite[\"Prezzo_Unitario\"][x]*Vendite[\"Perc_Margine\"][x]/100)) * Vendite[\"Quantità\"][x],2) for x in range(Numero_vendite)]"
   ]
  },
  {
   "cell_type": "code",
   "execution_count": 5,
   "metadata": {},
   "outputs": [],
   "source": [
    "Acquisti.to_csv(\"C:/Users/franc/Desktop/Portfolio/DataEdilis/Acquisti.csv\",index=None)\n",
    "Vendite.to_csv(\"C:/Users/franc/Desktop/Portfolio/DataEdilis/Vendite.csv\",index=None)"
   ]
  }
 ],
 "metadata": {
  "kernelspec": {
   "display_name": "Python 3",
   "language": "python",
   "name": "python3"
  },
  "language_info": {
   "codemirror_mode": {
    "name": "ipython",
    "version": 3
   },
   "file_extension": ".py",
   "mimetype": "text/x-python",
   "name": "python",
   "nbconvert_exporter": "python",
   "pygments_lexer": "ipython3",
   "version": "3.11.6"
  }
 },
 "nbformat": 4,
 "nbformat_minor": 2
}
