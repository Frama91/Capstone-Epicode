{
 "cells": [
  {
   "cell_type": "code",
   "execution_count": 1,
   "metadata": {},
   "outputs": [],
   "source": [
    "import pandas as pd\n",
    "from datetime import datetime"
   ]
  },
  {
   "cell_type": "code",
   "execution_count": 2,
   "metadata": {},
   "outputs": [],
   "source": [
    "# Importo le tabelle che necessitano di un formato differente di data\n",
    "Empl = pd.read_csv(\"C:/Users/franc/Desktop/Portfolio/SQL/Clean_Employees.csv\")\n",
    "Sales = pd.read_csv(\"C:/Users/franc/Desktop/Portfolio/SQL/Clean_Sales.csv\")"
   ]
  },
  {
   "cell_type": "code",
   "execution_count": null,
   "metadata": {},
   "outputs": [],
   "source": [
    "# Converte le colonne che contengono delle date in formato datetime\n",
    "Empl[\"Birth\"] = pd.to_datetime(Empl['Birth'], format=\"%d/%m/%Y\")\n",
    "Sales[\"Sale Date\"] = pd.to_datetime(Sales['Sale Date'], format=\"%d/%m/%Y\")\n",
    "\n",
    "\n",
    "# Formatta la colonne nel nuovo formato \"YYYY-MM-DD\", adatto per SQL\n",
    "Empl['Birth'] = Empl['Birth'].dt.strftime(\"%Y-%m-%d\")\n",
    "Sales['Sale Date'] = Sales['Sale Date'].dt.strftime(\"%Y-%m-%d\")\n"
   ]
  },
  {
   "cell_type": "code",
   "execution_count": null,
   "metadata": {},
   "outputs": [],
   "source": [
    "Empl.to_csv(\"C:/Users/franc/Desktop/Portfolio/SQL/Clean_Employees.csv\", index= False)\n",
    "Sales.to_csv(\"C:/Users/franc/Desktop/Portfolio/SQL/Clean_Sales.csv\", index = False)"
   ]
  }
 ],
 "metadata": {
  "kernelspec": {
   "display_name": "Python 3",
   "language": "python",
   "name": "python3"
  },
  "language_info": {
   "codemirror_mode": {
    "name": "ipython",
    "version": 3
   },
   "file_extension": ".py",
   "mimetype": "text/x-python",
   "name": "python",
   "nbconvert_exporter": "python",
   "pygments_lexer": "ipython3",
   "version": "3.11.6"
  }
 },
 "nbformat": 4,
 "nbformat_minor": 2
}
