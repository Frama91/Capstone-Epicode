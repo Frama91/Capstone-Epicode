{
 "cells": [
  {
   "cell_type": "markdown",
   "metadata": {},
   "source": [
    "### Creazione delle tabelle con i dati"
   ]
  },
  {
   "cell_type": "code",
   "execution_count": 8,
   "metadata": {},
   "outputs": [],
   "source": [
    "import pandas as pd\n",
    "from random import randint as rdi\n",
    "from datetime import datetime,timedelta\n"
   ]
  },
  {
   "cell_type": "markdown",
   "metadata": {},
   "source": [
    "Creo una serie di liste da cui verranno estratti casualmente i dati e creo delle funzioni di supporto"
   ]
  },
  {
   "cell_type": "code",
   "execution_count": 9,
   "metadata": {},
   "outputs": [],
   "source": [
    "Nomi = [[\"Luca\", \"Marco\", \"Giovanni\", \"Matteo\", \"Alessandro\", \"Francesco\", \"Leonardo\", \"Lorenzo\", \"Davide\", \"Gabriele\",\"Riccardo\", \"Simone\", \"Filippo\", \"Antonio\", \"Niccolò\", \"Michele\", \"Giuseppe\", \"Andrea\", \"Federico\", \"Tommaso\",\"Emanuele\", \"Enrico\", \"Christian\", \"Luigi\", \"Alberto\"],[\"Giulia\", \"Sofia\", \"Aurora\", \"Alice\", \"Emma\", \"Greta\", \"Martina\", \"Giorgia\", \"Chiara\", \"Beatrice\", \"Francesca\", \"Eleonora\", \"Ludovica\", \"Valentina\", \"Alessia\", \"Camilla\", \"Elisa\", \"Lara\", \"Laura\", \"Roberta\", \"Isabella\", \"Marta\", \"Elena\", \"Sara\", \"Caterina\"]]\n",
    "Cognomi = [\"Rossi\", \"Russo\", \"Ferrari\", \"Esposito\", \"Bianchi\", \"Romano\", \"Colombo\", \"Ricci\", \"Marino\", \"Greco\",\"Bruno\", \"Gallo\", \"Conti\", \"De Luca\", \"Mancini\", \"Costa\", \"Giordano\", \"Rizzo\", \"Lombardi\", \"Moretti\",\"Barbieri\", \"Fontana\", \"Santoro\", \"Mariani\", \"Rinaldi\", \"Caruso\", \"Ferrara\", \"Galli\", \"Martini\", \"Leone\"]\n",
    "Posizioni = [\"Sviluppatore software\", \"Ingegnere del software\", \"Analista dati\", \"Amministratore di sistema\", \"Ingegnere di rete\",  \"Architetto software\", \"Analista di sicurezza informatica\", \"Project manager IT\", \"Web developer\", \"Specialista di machine learning\",  \"Data scientist\", \"Ingegnere del software embedded\", \"Amministratore del database\", \"Specialista di reti neurali\",  \"Ingegnere del software mobile\", \"Analista QA (Quality Assurance)\", \"Ingegnere del firmware\", \"Esperto di intelligenza artificiale\",  \"Analista di business intelligence\", \"Ingegnere dei sistemi embedded\", \"Esperto di DevOps\", \"Ingegnere del software front-end\",  \"Ingegnere del software back-end\", \"Esperto di sicurezza informatica\"]\n",
    "\n",
    "def Rand_Date(inizio, fine):\n",
    "    \"\"\"\n",
    "    Questa funzione restutuisce delle date casuali dall'intervallo inserito.\n",
    "\n",
    "    Valori:\n",
    "        inizio(\"DD/MM/YYY\"): data inizio intervallo.\n",
    "        fine(\"DD/MM/YYY\"): data fine intervallo.\n",
    "\n",
    "    Risultato:\n",
    "        data casuale: data casuale in formato DD/MM/YYYY\n",
    "    \"\"\"\n",
    "    inizio_datetime = datetime.strptime(inizio, '%d/%m/%Y')\n",
    "    fine_datetime = datetime.strptime(fine, '%d/%m/%Y')\n",
    "    delta_giorni = (fine_datetime - inizio_datetime).days\n",
    "    data_casuale = inizio_datetime + timedelta(days=rdi(0, delta_giorni))\n",
    "    return data_casuale.strftime('%d/%m/%Y')\n",
    "def CreaCF(Indice):\n",
    "    \"\"\"\n",
    "    Crea un codice univoco partendo dai dati del candidato.\n",
    "\n",
    "    Valori:\n",
    "        int Indice: indica la posizione del record del candidato.\n",
    "\n",
    "    Risultato:\n",
    "        Codice univoco identificaticvo del candidato formato str\n",
    "    \"\"\"\n",
    "    out = Candidati[\"Nome\"][Indice][:3].upper().replace(\" \",\"\")\n",
    "    out += Candidati[\"Cognome\"][Indice][:3].upper().replace(\" \",\"\")\n",
    "    out += str(Candidati[\"Data di nascita\"][Indice][-2:])\n",
    "    out += Candidati[\"Genere\"][Indice]\n",
    "    out += str(rdi(100,999))\n",
    "    return str(out)"
   ]
  },
  {
   "cell_type": "code",
   "execution_count": 10,
   "metadata": {},
   "outputs": [],
   "source": [
    "# Creazione tabella \n",
    "Candidati = pd.DataFrame()\n",
    "\n",
    "# Scelta del numero di righe\n",
    "Numero_Candiati = 250\n",
    "\n",
    "# Creazione delle singole colonne e riempimento\n",
    "Candidati[\"Nome\"] = [Nomi[rdi(0,1)][rdi(0,len(Nomi[0])-1)] for x in range(Numero_Candiati)]\n",
    "Candidati[\"Cognome\"] = [Cognomi[rdi(0,len(Cognomi)-1)]for x in range(Numero_Candiati)]\n",
    "Candidati[\"Data di nascita\"] = [Rand_Date(\"01/01/1990\",\"31/12/2004\") for x in range(Numero_Candiati)]\n",
    "Candidati[\"Genere\"] = [\"M\" if (Candidati[\"Nome\"][x] in Nomi[0]) else \"F\" for x in range(len(Candidati[\"Nome\"]))]\n",
    "\n",
    "# Creazione di un codice univo ed identificativo e controllo\n",
    "while True:\n",
    "    Candidati[\"CF\"] = [CreaCF(x) for x in range(Numero_Candiati)]\n",
    "    if Candidati[\"CF\"].nunique() == Numero_Candiati:break\n",
    " \n",
    "Candidati[\"Posizione precedente\"] = [Posizioni[rdi(0,len(Posizioni)-1)] for x in range(Numero_Candiati)]\n",
    "Candidati[\"Data candidatura\"] = [Rand_Date(\"01/01/2020\",\"01/01/2024\") for x in range(Numero_Candiati)]\n",
    "Candidati[\"Posizione ricercata\"] = [Posizioni[rdi(0,len(Posizioni)-1)] for x in range(Numero_Candiati)]"
   ]
  },
  {
   "cell_type": "code",
   "execution_count": 11,
   "metadata": {},
   "outputs": [],
   "source": [
    "Candidati.to_csv(\"C:/Users/franc/Desktop/Portfolio/Data Entry - HR/Candidati.csv\",index = False)"
   ]
  }
 ],
 "metadata": {
  "kernelspec": {
   "display_name": "Python 3",
   "language": "python",
   "name": "python3"
  },
  "language_info": {
   "codemirror_mode": {
    "name": "ipython",
    "version": 3
   },
   "file_extension": ".py",
   "mimetype": "text/x-python",
   "name": "python",
   "nbconvert_exporter": "python",
   "pygments_lexer": "ipython3",
   "version": "3.11.6"
  }
 },
 "nbformat": 4,
 "nbformat_minor": 2
}
